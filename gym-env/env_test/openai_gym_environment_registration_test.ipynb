{
 "cells": [
  {
   "cell_type": "markdown",
   "metadata": {},
   "source": [
    "# Using our Enviroment\n",
    "\n",
    "Before using our custom enviroment we must use pip to install it."
   ]
  },
  {
   "cell_type": "code",
   "execution_count": 3,
   "metadata": {},
   "outputs": [
    {
     "name": "stdout",
     "output_type": "stream",
     "text": [
      "Obtaining file:///E:/Abhinav/CS698R_DRL/Foraging%20in%20Replenishing%20Patches/gym-env\n",
      "Requirement already satisfied: gym in c:\\users\\abhinav\\appdata\\roaming\\python\\python38\\site-packages (from gym-env==1.0.0) (0.20.0)\n",
      "Requirement already satisfied: opencv-python in c:\\users\\abhinav\\anaconda3\\lib\\site-packages (from gym-env==1.0.0) (4.5.3.56)\n",
      "Requirement already satisfied: numpy in c:\\users\\abhinav\\anaconda3\\lib\\site-packages (from gym-env==1.0.0) (1.20.1)\n",
      "Requirement already satisfied: cloudpickle>=1.2.0 in c:\\users\\abhinav\\anaconda3\\lib\\site-packages (from gym->gym-env==1.0.0) (1.6.0)\n",
      "Installing collected packages: gym-env\n",
      "  Attempting uninstall: gym-env\n",
      "    Found existing installation: gym-env 1.0.0\n",
      "    Uninstalling gym-env-1.0.0:\n",
      "      Successfully uninstalled gym-env-1.0.0\n",
      "  Running setup.py develop for gym-env\n",
      "Successfully installed gym-env\n"
     ]
    }
   ],
   "source": [
    "!pip install --upgrade --editable gym-env"
   ]
  },
  {
   "cell_type": "markdown",
   "metadata": {},
   "source": [
    "It's better to restart the kernel once the pip is done installing.\n",
    "\n",
    "We now simply import gym, create our environment and run a few steps."
   ]
  },
  {
   "cell_type": "code",
   "execution_count": 7,
   "metadata": {},
   "outputs": [
    {
     "name": "stdout",
     "output_type": "stream",
     "text": [
      "2 2 0 False\n",
      "1 1 0 False\n",
      "5 5 0 False\n",
      "3 3 0 False\n",
      "0 0 0 False\n",
      "6 6 0 False\n",
      "self.current_state: 6\n",
      "[0 4 4 0 4 0 0 0]\n",
      "[ 0 74 74  0 74  0 70  0]\n",
      "8 6 63.0 False\n",
      "self.current_state: 6\n",
      "[0 4 4 0 4 0 0 0]\n",
      "[ 0 78 78  0 78  0 63  0]\n",
      "8 6 119.7 False\n",
      "5 5 119.7 False\n",
      "0 0 119.7 False\n"
     ]
    }
   ],
   "source": [
    "import gym\n",
    "import gym_env\n",
    "\n",
    "import numpy as np\n",
    "\n",
    "env = gym.make('foraging-replenishing-patches-v0')\n",
    "\n",
    "env.reset()\n",
    "for _ in range(10):\n",
    "    action = np.random.randint(9)\n",
    "    state, reward, done, _ = env.step(action)\n",
    "    print(action, state, reward, done)\n",
    "    if done:\n",
    "        break\n",
    "\n",
    "    "
   ]
  },
  {
   "cell_type": "markdown",
   "metadata": {},
   "source": []
  },
  {
   "cell_type": "code",
   "execution_count": null,
   "metadata": {},
   "outputs": [],
   "source": []
  }
 ],
 "metadata": {
  "interpreter": {
   "hash": "2008bd984eaefc4e23633f09c5f7daf907a3f8b68987f367dc3bcc6913cd968e"
  },
  "kernelspec": {
   "display_name": "Python 3",
   "language": "python",
   "name": "python3"
  },
  "language_info": {
   "codemirror_mode": {
    "name": "ipython",
    "version": 3
   },
   "file_extension": ".py",
   "mimetype": "text/x-python",
   "name": "python",
   "nbconvert_exporter": "python",
   "pygments_lexer": "ipython3",
   "version": "3.8.8"
  }
 },
 "nbformat": 4,
 "nbformat_minor": 2
}
